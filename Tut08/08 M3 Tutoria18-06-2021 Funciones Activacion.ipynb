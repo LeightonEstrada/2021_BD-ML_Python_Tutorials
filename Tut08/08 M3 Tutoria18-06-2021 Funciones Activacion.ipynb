{
  "nbformat": 4,
  "nbformat_minor": 0,
  "metadata": {
    "colab": {
      "name": "Tutoria_18-06-2021_Funciones_Activacion.ipynb",
      "provenance": [],
      "collapsed_sections": [],
      "toc_visible": true,
      "authorship_tag": "ABX9TyMekwEknj1Od1Rqj/m6exH2",
      "include_colab_link": true
    },
    "kernelspec": {
      "name": "python3",
      "display_name": "Python 3"
    },
    "language_info": {
      "name": "python"
    }
  },
  "cells": [
    {
      "cell_type": "markdown",
      "metadata": {
        "id": "view-in-github",
        "colab_type": "text"
      },
      "source": [
        "<a href=\"https://colab.research.google.com/github/LeightonEstrada/2021_BD-ML_Python_Tutorials/blob/main/Tut08/08%20M3%20Tutoria18-06-2021%20Funciones%20Activacion.ipynb\" target=\"_parent\"><img src=\"https://colab.research.google.com/assets/colab-badge.svg\" alt=\"Open In Colab\"/></a>"
      ]
    },
    {
      "cell_type": "markdown",
      "metadata": {
        "id": "6WrnS2_uaMzy"
      },
      "source": [
        "# Diplomatura BD&ML UTEC 2021\n",
        "\n",
        "# Tutoría de Reforzamiento Sábado 18-06-2021\n",
        "\n",
        "## Tutor: Leighton Estrada\n",
        "\n",
        "## Funciones de Activación"
      ]
    },
    {
      "cell_type": "markdown",
      "metadata": {
        "id": "dv5H_OoTC0Ht"
      },
      "source": [
        "### Importar libreria"
      ]
    },
    {
      "cell_type": "code",
      "metadata": {
        "id": "FY0tKo9rCzsf"
      },
      "source": [
        "import math\n",
        "import numpy as np\n",
        "import matplotlib.pyplot as plt\n",
        "%matplotlib inline"
      ],
      "execution_count": null,
      "outputs": []
    },
    {
      "cell_type": "markdown",
      "metadata": {
        "id": "L53lAVGy8-Dm"
      },
      "source": [
        "### Función Binary"
      ]
    },
    {
      "cell_type": "code",
      "metadata": {
        "id": "3uqWzdj89BpW"
      },
      "source": [
        "def binary_active_function(x):\n",
        "  return 0 if x < 0 else 1"
      ],
      "execution_count": null,
      "outputs": []
    },
    {
      "cell_type": "code",
      "metadata": {
        "colab": {
          "base_uri": "https://localhost:8080/",
          "height": 265
        },
        "id": "z26uX_7PF6Ag",
        "outputId": "ead960f1-27ba-4ffc-d030-21780df1215f"
      },
      "source": [
        "x = np.linspace(-10,10,100)\n",
        "y= [binary_active_function(ii) for ii in x]\n",
        "\n",
        "plt.plot(x,y)\n",
        "plt.show()"
      ],
      "execution_count": null,
      "outputs": [
        {
          "output_type": "display_data",
          "data": {
            "image/png": "[encoded data removed]",
            "text/plain": [
              "<Figure size 432x288 with 1 Axes>"
            ]
          },
          "metadata": {
            "tags": [],
            "needs_background": "light"
          }
        }
      ]
    },
    {
      "cell_type": "markdown",
      "metadata": {
        "id": "ImrdrHC5RxhK"
      },
      "source": [
        "### Función Linear"
      ]
    },
    {
      "cell_type": "code",
      "metadata": {
        "id": "0Wa2k82lR2TQ"
      },
      "source": [
        "def linear_active_function(a, x):\n",
        "    return a*x"
      ],
      "execution_count": null,
      "outputs": []
    },
    {
      "cell_type": "code",
      "metadata": {
        "colab": {
          "base_uri": "https://localhost:8080/",
          "height": 265
        },
        "id": "1O61eL1tR2d3",
        "outputId": "d8b1bd44-847a-4825-8a82-d61b7454c2f1"
      },
      "source": [
        "x = np.linspace(-10,10,100)\n",
        "y= [linear_active_function(1, ii) for ii in x]\n",
        "\n",
        "plt.plot(x,y)\n",
        "plt.show()"
      ],
      "execution_count": null,
      "outputs": [
        {
          "output_type": "display_data",
          "data": {
            "image/png": "[encoded data removed]",
            "text/plain": [
              "<Figure size 432x288 with 1 Axes>"
            ]
          },
          "metadata": {
            "tags": [],
            "needs_background": "light"
          }
        }
      ]
    },
    {
      "cell_type": "markdown",
      "metadata": {
        "id": "5cu-v8LsSgFg"
      },
      "source": [
        "### Funcion Sigmoid"
      ]
    },
    {
      "cell_type": "code",
      "metadata": {
        "id": "E2v5F-EvSfcy"
      },
      "source": [
        "def sigmoid_active_function(x):\n",
        "    return 1./(1+np.exp(-x))"
      ],
      "execution_count": null,
      "outputs": []
    },
    {
      "cell_type": "code",
      "metadata": {
        "colab": {
          "base_uri": "https://localhost:8080/",
          "height": 265
        },
        "id": "AX9PsVlFSl1Y",
        "outputId": "7ef4ed51-c880-498c-b129-29af7becb716"
      },
      "source": [
        "x = np.linspace(-10,10,100)\n",
        "y= [sigmoid_active_function(ii) for ii in x]\n",
        "\n",
        "plt.plot(x,y)\n",
        "plt.show()"
      ],
      "execution_count": null,
      "outputs": [
        {
          "output_type": "display_data",
          "data": {
            "image/png": "[encoded data removed]",
            "text/plain": [
              "<Figure size 432x288 with 1 Axes>"
            ]
          },
          "metadata": {
            "tags": [],
            "needs_background": "light"
          }
        }
      ]
    },
    {
      "cell_type": "markdown",
      "metadata": {
        "id": "0CgzzdEVS1mQ"
      },
      "source": [
        "### Función Tanh"
      ]
    },
    {
      "cell_type": "code",
      "metadata": {
        "id": "tdIHeFKHS1Ex"
      },
      "source": [
        "def tanh_active_function(x):\n",
        "    return 2*sigmoid_active_function(2*x)-1"
      ],
      "execution_count": null,
      "outputs": []
    },
    {
      "cell_type": "code",
      "metadata": {
        "colab": {
          "base_uri": "https://localhost:8080/",
          "height": 265
        },
        "id": "JiLDTMadS7Po",
        "outputId": "cdff6244-2b06-48f0-9dc9-8667d2bd8723"
      },
      "source": [
        "x = np.linspace(-10,10,100)\n",
        "y= [tanh_active_function(ii) for ii in x]\n",
        "\n",
        "plt.plot(x,y)\n",
        "plt.show()"
      ],
      "execution_count": null,
      "outputs": [
        {
          "output_type": "display_data",
          "data": {
            "image/png": "[encoded data removed]",
            "text/plain": [
              "<Figure size 432x288 with 1 Axes>"
            ]
          },
          "metadata": {
            "tags": [],
            "needs_background": "light"
          }
        }
      ]
    },
    {
      "cell_type": "markdown",
      "metadata": {
        "id": "hmp2q-8KS_FQ"
      },
      "source": [
        "### Función ReLU"
      ]
    },
    {
      "cell_type": "code",
      "metadata": {
        "id": "vREOVh82S-t4"
      },
      "source": [
        "def relu_active_function(x):\n",
        "    return np.array([0, x]).max()"
      ],
      "execution_count": null,
      "outputs": []
    },
    {
      "cell_type": "code",
      "metadata": {
        "colab": {
          "base_uri": "https://localhost:8080/",
          "height": 265
        },
        "id": "DXpPj3jPTDWa",
        "outputId": "5a70d4a7-b25d-4c62-aab4-79903e7acbad"
      },
      "source": [
        "x = np.linspace(-10,10,100)\n",
        "y= [relu_active_function(ii) for ii in x]\n",
        "\n",
        "plt.plot(x,y)\n",
        "plt.show()"
      ],
      "execution_count": null,
      "outputs": [
        {
          "output_type": "display_data",
          "data": {
            "image/png": "[encoded data removed]",
            "text/plain": [
              "<Figure size 432x288 with 1 Axes>"
            ]
          },
          "metadata": {
            "tags": [],
            "needs_background": "light"
          }
        }
      ]
    },
    {
      "cell_type": "markdown",
      "metadata": {
        "id": "R8wNuluyTSdx"
      },
      "source": [
        "### Función Leaky ReLU"
      ]
    },
    {
      "cell_type": "code",
      "metadata": {
        "id": "P7IIcTdHTL2Z"
      },
      "source": [
        "def leaky_relu_active_function(x):\n",
        "    return 0.01*x if x < 0 else x"
      ],
      "execution_count": null,
      "outputs": []
    },
    {
      "cell_type": "code",
      "metadata": {
        "colab": {
          "base_uri": "https://localhost:8080/",
          "height": 265
        },
        "id": "t4UKT57gTV9h",
        "outputId": "fe0af860-e90a-4f27-fffd-09b7b98f99b6"
      },
      "source": [
        "x = np.linspace(-10,10,100)\n",
        "y= [leaky_relu_active_function(ii) for ii in x]\n",
        "\n",
        "plt.plot(x,y)\n",
        "plt.show()"
      ],
      "execution_count": null,
      "outputs": [
        {
          "output_type": "display_data",
          "data": {
            "image/png": "[encoded data removed]",
            "text/plain": [
              "<Figure size 432x288 with 1 Axes>"
            ]
          },
          "metadata": {
            "tags": [],
            "needs_background": "light"
          }
        }
      ]
    },
    {
      "cell_type": "markdown",
      "metadata": {
        "id": "LS5zDEQGTo1p"
      },
      "source": [
        "### Función Parametric ReLU"
      ]
    },
    {
      "cell_type": "code",
      "metadata": {
        "id": "i_TNjWQeTr4J"
      },
      "source": [
        "def parametric_relu_active_function(a, x):\n",
        "    return a*x if x < 0 else x"
      ],
      "execution_count": null,
      "outputs": []
    },
    {
      "cell_type": "code",
      "metadata": {
        "colab": {
          "base_uri": "https://localhost:8080/",
          "height": 265
        },
        "id": "4KFB4a1rTsAS",
        "outputId": "405ba5db-85e2-42f6-d004-07675cd905bf"
      },
      "source": [
        "x = np.linspace(-10,10,100)\n",
        "y= [parametric_relu_active_function(1,ii) for ii in x]\n",
        "\n",
        "plt.plot(x,y)\n",
        "plt.show()"
      ],
      "execution_count": null,
      "outputs": [
        {
          "output_type": "display_data",
          "data": {
            "image/png": "[encoded data removed]",
            "text/plain": [
              "<Figure size 432x288 with 1 Axes>"
            ]
          },
          "metadata": {
            "tags": [],
            "needs_background": "light"
          }
        }
      ]
    },
    {
      "cell_type": "markdown",
      "metadata": {
        "id": "TYXV4JWvTzQR"
      },
      "source": [
        "### Función Exponential Linear Unit (eLU)"
      ]
    },
    {
      "cell_type": "code",
      "metadata": {
        "id": "XJm9s-ZBT2Jy"
      },
      "source": [
        "def elu_active_function(a, x):\n",
        "    return a*(np.exp(x)-1) if x < 0 else x"
      ],
      "execution_count": null,
      "outputs": []
    },
    {
      "cell_type": "code",
      "metadata": {
        "colab": {
          "base_uri": "https://localhost:8080/",
          "height": 265
        },
        "id": "paSFuWeqT2Qh",
        "outputId": "9c528900-3017-48f8-83bc-b9869b82d7cf"
      },
      "source": [
        "x = np.linspace(-10,10,100)\n",
        "y= [elu_active_function(1,ii) for ii in x]\n",
        "\n",
        "plt.plot(x,y)\n",
        "plt.show()"
      ],
      "execution_count": null,
      "outputs": [
        {
          "output_type": "display_data",
          "data": {
            "image/png": "[encoded data removed]",
            "text/plain": [
              "<Figure size 432x288 with 1 Axes>"
            ]
          },
          "metadata": {
            "tags": [],
            "needs_background": "light"
          }
        }
      ]
    },
    {
      "cell_type": "markdown",
      "metadata": {
        "id": "Z7MWntsXVH8y"
      },
      "source": [
        "### Función ReLU-6"
      ]
    },
    {
      "cell_type": "code",
      "metadata": {
        "id": "OFw0rjU2VHhr"
      },
      "source": [
        "def relu_6_active_function(x):\n",
        "    return np.array([0, x]).max() if x<6 else 6"
      ],
      "execution_count": null,
      "outputs": []
    },
    {
      "cell_type": "code",
      "metadata": {
        "colab": {
          "base_uri": "https://localhost:8080/",
          "height": 265
        },
        "id": "Oe2lux7HVWER",
        "outputId": "b10ec7e1-8529-4844-c8ab-f4ca37d481d3"
      },
      "source": [
        "x = np.linspace(-10,10,100)\n",
        "y= [relu_6_active_function(ii) for ii in x]\n",
        "\n",
        "plt.plot(x,y)\n",
        "plt.show()"
      ],
      "execution_count": null,
      "outputs": [
        {
          "output_type": "display_data",
          "data": {
            "image/png": "[encoded data removed]",
            "text/plain": [
              "<Figure size 432x288 with 1 Axes>"
            ]
          },
          "metadata": {
            "tags": [],
            "needs_background": "light"
          }
        }
      ]
    },
    {
      "cell_type": "markdown",
      "metadata": {
        "id": "_kv8oHKRVblR"
      },
      "source": [
        "### Función Softplus"
      ]
    },
    {
      "cell_type": "code",
      "metadata": {
        "id": "mMwnaJNBVfq6"
      },
      "source": [
        "def softplus_active_function(x):\n",
        "    return math.log(1+np.exp(x))"
      ],
      "execution_count": null,
      "outputs": []
    },
    {
      "cell_type": "code",
      "metadata": {
        "colab": {
          "base_uri": "https://localhost:8080/",
          "height": 265
        },
        "id": "1dKsOdYUVfzB",
        "outputId": "59fd29ba-a8a8-4927-c74f-cc88b4567529"
      },
      "source": [
        "x = np.linspace(-10,10,100)\n",
        "y= [softplus_active_function(ii) for ii in x]\n",
        "\n",
        "plt.plot(x,y)\n",
        "plt.show()"
      ],
      "execution_count": null,
      "outputs": [
        {
          "output_type": "display_data",
          "data": {
            "image/png": "[encoded data removed]",
            "text/plain": [
              "<Figure size 432x288 with 1 Axes>"
            ]
          },
          "metadata": {
            "tags": [],
            "needs_background": "light"
          }
        }
      ]
    },
    {
      "cell_type": "markdown",
      "metadata": {
        "id": "VeI_Dcf0Vvsk"
      },
      "source": [
        "### Función Softsign"
      ]
    },
    {
      "cell_type": "code",
      "metadata": {
        "id": "xEXhS2NwVzRK"
      },
      "source": [
        "def softsign_active_function(x):\n",
        "    return x / (1 + abs(x) )"
      ],
      "execution_count": null,
      "outputs": []
    },
    {
      "cell_type": "code",
      "metadata": {
        "colab": {
          "base_uri": "https://localhost:8080/",
          "height": 269
        },
        "id": "_h7vqrV_VzYx",
        "outputId": "2b6d6382-2c02-4320-df92-28ace2d9c1e8"
      },
      "source": [
        "x = np.linspace(-10,10,100)\n",
        "y= [softsign_active_function(ii) for ii in x]\n",
        "\n",
        "plt.plot(x,y)\n",
        "plt.show()"
      ],
      "execution_count": null,
      "outputs": [
        {
          "output_type": "display_data",
          "data": {
            "image/png": "[encoded data removed]",
            "text/plain": [
              "<Figure size 432x288 with 1 Axes>"
            ]
          },
          "metadata": {
            "tags": [],
            "needs_background": "light"
          }
        }
      ]
    },
    {
      "cell_type": "markdown",
      "metadata": {
        "id": "KGcCp8PfV5Xi"
      },
      "source": [
        "### Función Softmax"
      ]
    },
    {
      "cell_type": "code",
      "metadata": {
        "id": "LcjDnkNMV-lq"
      },
      "source": [
        "def softmax_active_function(x):\n",
        "    return np.exp(x)/np.sum(np.exp(x))"
      ],
      "execution_count": null,
      "outputs": []
    },
    {
      "cell_type": "code",
      "metadata": {
        "colab": {
          "base_uri": "https://localhost:8080/",
          "height": 265
        },
        "id": "l7EsBMa9V-pB",
        "outputId": "83840742-339a-4f69-a1e8-f49609551a40"
      },
      "source": [
        "x = np.linspace(-10,10,100)\n",
        "y= [softmax_active_function(ii) for ii in x]\n",
        "\n",
        "plt.plot(x,y)\n",
        "plt.show()"
      ],
      "execution_count": null,
      "outputs": [
        {
          "output_type": "display_data",
          "data": {
            "image/png": "[encoded data removed]",
            "text/plain": [
              "<Figure size 432x288 with 1 Axes>"
            ]
          },
          "metadata": {
            "tags": [],
            "needs_background": "light"
          }
        }
      ]
    },
    {
      "cell_type": "markdown",
      "metadata": {
        "id": "ng1SJRy_WHtK"
      },
      "source": [
        "### Funcion Swish"
      ]
    },
    {
      "cell_type": "code",
      "metadata": {
        "id": "jBmS4E9FWHJq"
      },
      "source": [
        "def swish_active_function(x):\n",
        "    return x/(1+np.exp(-x))"
      ],
      "execution_count": null,
      "outputs": []
    },
    {
      "cell_type": "code",
      "metadata": {
        "colab": {
          "base_uri": "https://localhost:8080/",
          "height": 265
        },
        "id": "aGobKhQXWHMy",
        "outputId": "d0b161b9-72f7-4a29-ccf0-a2453b39bee1"
      },
      "source": [
        "x = np.linspace(-10,10,100)\n",
        "y= [swish_active_function(ii) for ii in x]\n",
        "\n",
        "plt.plot(x,y)\n",
        "plt.show()"
      ],
      "execution_count": null,
      "outputs": [
        {
          "output_type": "display_data",
          "data": {
            "image/png": "[encoded data removed]",
            "text/plain": [
              "<Figure size 432x288 with 1 Axes>"
            ]
          },
          "metadata": {
            "tags": [],
            "needs_background": "light"
          }
        }
      ]
    },
    {
      "cell_type": "markdown",
      "metadata": {
        "id": "TLdtRJMDYn-v"
      },
      "source": [
        "-- Fin de Tutoria --"
      ]
    }
  ]
}