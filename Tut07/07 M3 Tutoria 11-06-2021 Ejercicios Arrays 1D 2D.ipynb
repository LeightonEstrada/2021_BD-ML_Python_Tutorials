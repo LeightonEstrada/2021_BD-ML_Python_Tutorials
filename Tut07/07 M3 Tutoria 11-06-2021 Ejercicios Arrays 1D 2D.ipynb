{
  "nbformat": 4,
  "nbformat_minor": 0,
  "metadata": {
    "colab": {
      "name": "Copia de Tutoria_11-06-2021_Ejercicios_Arrays1D-2D.ipynb",
      "provenance": [],
      "toc_visible": true,
      "authorship_tag": "ABX9TyMDw0Du1xlDLuyqtiYLYcXx",
      "include_colab_link": true
    },
    "kernelspec": {
      "name": "python3",
      "display_name": "Python 3"
    },
    "language_info": {
      "name": "python"
    }
  },
  "cells": [
    {
      "cell_type": "markdown",
      "metadata": {
        "id": "view-in-github",
        "colab_type": "text"
      },
      "source": [
        "<a href=\"https://colab.research.google.com/github/LeightonEstrada/2021_BD-ML_Python_Tutorials/blob/main/Tut07/07%20M3%20Tutoria%2011-06-2021%20Ejercicios%20Arrays%201D%202D.ipynb\" target=\"_parent\"><img src=\"https://colab.research.google.com/assets/colab-badge.svg\" alt=\"Open In Colab\"/></a>"
      ]
    },
    {
      "cell_type": "markdown",
      "metadata": {
        "id": "zW9cA8jntHE6"
      },
      "source": [
        "# Diplomatura BD&ML UTEC 2021\n",
        "\n",
        "# Tutoría de Reforzamiento Viernes 11-06-2021\n",
        "\n",
        "## Tutor: Leighton Estrada\n",
        "\n",
        "## Ejercicios con Arrays"
      ]
    },
    {
      "cell_type": "markdown",
      "metadata": {
        "id": "Vw1kgN21vNMi"
      },
      "source": [
        "### Importamos libreria numpy"
      ]
    },
    {
      "cell_type": "code",
      "metadata": {
        "id": "AGoBnoPfvJuM"
      },
      "source": [
        "import numpy as np"
      ],
      "execution_count": 1,
      "outputs": []
    },
    {
      "cell_type": "markdown",
      "metadata": {
        "id": "_nx65UxmLUyl"
      },
      "source": [
        "### range"
      ]
    },
    {
      "cell_type": "code",
      "metadata": {
        "id": "phN42TTrcWDs",
        "colab": {
          "base_uri": "https://localhost:8080/"
        },
        "outputId": "3a68bd51-2a01-45f5-d447-aaf7fd5f42a4"
      },
      "source": [
        "range(10)"
      ],
      "execution_count": 2,
      "outputs": [
        {
          "output_type": "execute_result",
          "data": {
            "text/plain": [
              "range(0, 10)"
            ]
          },
          "metadata": {},
          "execution_count": 2
        }
      ]
    },
    {
      "cell_type": "code",
      "metadata": {
        "id": "HKQEyKjgc4TL",
        "colab": {
          "base_uri": "https://localhost:8080/"
        },
        "outputId": "6404c18f-c0e4-4f37-f584-32677a81d23a"
      },
      "source": [
        "np.array(range(10))"
      ],
      "execution_count": 3,
      "outputs": [
        {
          "output_type": "execute_result",
          "data": {
            "text/plain": [
              "array([0, 1, 2, 3, 4, 5, 6, 7, 8, 9])"
            ]
          },
          "metadata": {},
          "execution_count": 3
        }
      ]
    },
    {
      "cell_type": "code",
      "metadata": {
        "id": "W8Wg0x1fLUWu",
        "colab": {
          "base_uri": "https://localhost:8080/"
        },
        "outputId": "0d191548-c739-4dc1-e5bd-4d8197bdc53b"
      },
      "source": [
        "range(1,26)"
      ],
      "execution_count": 4,
      "outputs": [
        {
          "output_type": "execute_result",
          "data": {
            "text/plain": [
              "range(1, 26)"
            ]
          },
          "metadata": {},
          "execution_count": 4
        }
      ]
    },
    {
      "cell_type": "code",
      "metadata": {
        "id": "lbWMJUtyc7Xy",
        "colab": {
          "base_uri": "https://localhost:8080/"
        },
        "outputId": "bb8712e8-2512-42b8-e0e8-74a48d1d0be0"
      },
      "source": [
        "np.array(range(1,26))"
      ],
      "execution_count": 5,
      "outputs": [
        {
          "output_type": "execute_result",
          "data": {
            "text/plain": [
              "array([ 1,  2,  3,  4,  5,  6,  7,  8,  9, 10, 11, 12, 13, 14, 15, 16, 17,\n",
              "       18, 19, 20, 21, 22, 23, 24, 25])"
            ]
          },
          "metadata": {},
          "execution_count": 5
        }
      ]
    },
    {
      "cell_type": "markdown",
      "metadata": {
        "id": "5iBHA12_JP9F"
      },
      "source": [
        "### asarray"
      ]
    },
    {
      "cell_type": "code",
      "metadata": {
        "id": "gdNK2ocTJPeH",
        "colab": {
          "base_uri": "https://localhost:8080/"
        },
        "outputId": "1121cd35-16a1-4eaf-9758-96024e6173ec"
      },
      "source": [
        "a = [1, 2]\n",
        "a"
      ],
      "execution_count": 6,
      "outputs": [
        {
          "output_type": "execute_result",
          "data": {
            "text/plain": [
              "[1, 2]"
            ]
          },
          "metadata": {},
          "execution_count": 6
        }
      ]
    },
    {
      "cell_type": "code",
      "metadata": {
        "id": "GX54qPAQKe-Q",
        "colab": {
          "base_uri": "https://localhost:8080/"
        },
        "outputId": "5ee23c6c-c327-498d-8b21-2c3bf35bf046"
      },
      "source": [
        "np.asarray(a)"
      ],
      "execution_count": 7,
      "outputs": [
        {
          "output_type": "execute_result",
          "data": {
            "text/plain": [
              "array([1, 2])"
            ]
          },
          "metadata": {},
          "execution_count": 7
        }
      ]
    },
    {
      "cell_type": "code",
      "metadata": {
        "id": "Y_7J6YeQKwlN",
        "colab": {
          "base_uri": "https://localhost:8080/"
        },
        "outputId": "ffb77ded-0e6a-4c42-bb61-3a118bd39a24"
      },
      "source": [
        "a = np.array([1, 2], dtype=np.float32)\n",
        "a"
      ],
      "execution_count": 8,
      "outputs": [
        {
          "output_type": "execute_result",
          "data": {
            "text/plain": [
              "array([1., 2.], dtype=float32)"
            ]
          },
          "metadata": {},
          "execution_count": 8
        }
      ]
    },
    {
      "cell_type": "code",
      "metadata": {
        "id": "c0svHEOmKz42",
        "colab": {
          "base_uri": "https://localhost:8080/"
        },
        "outputId": "4b9dea94-5139-4948-8bb8-789fc541ecc9"
      },
      "source": [
        "b = np.array((1, 2), dtype=np.float32)\n",
        "b"
      ],
      "execution_count": 9,
      "outputs": [
        {
          "output_type": "execute_result",
          "data": {
            "text/plain": [
              "array([1., 2.], dtype=float32)"
            ]
          },
          "metadata": {},
          "execution_count": 9
        }
      ]
    },
    {
      "cell_type": "markdown",
      "metadata": {
        "id": "vi-A0WDa9-bs"
      },
      "source": [
        "### shape"
      ]
    },
    {
      "cell_type": "code",
      "metadata": {
        "id": "Ql-cdtJE9_9-",
        "colab": {
          "base_uri": "https://localhost:8080/"
        },
        "outputId": "38da6016-0c8d-4dd3-c6ac-bc786ad9a6e9"
      },
      "source": [
        "np.array([1, 2, 3, 4])"
      ],
      "execution_count": 10,
      "outputs": [
        {
          "output_type": "execute_result",
          "data": {
            "text/plain": [
              "array([1, 2, 3, 4])"
            ]
          },
          "metadata": {},
          "execution_count": 10
        }
      ]
    },
    {
      "cell_type": "code",
      "metadata": {
        "id": "R_kw61x3-AGO",
        "colab": {
          "base_uri": "https://localhost:8080/"
        },
        "outputId": "8f52d756-fecc-41ac-ea52-3d5a55f80f60"
      },
      "source": [
        "np.array([1, 2, 3, 4]).shape"
      ],
      "execution_count": 11,
      "outputs": [
        {
          "output_type": "execute_result",
          "data": {
            "text/plain": [
              "(4,)"
            ]
          },
          "metadata": {},
          "execution_count": 11
        }
      ]
    },
    {
      "cell_type": "code",
      "metadata": {
        "id": "O3tLCH-R-L-9",
        "colab": {
          "base_uri": "https://localhost:8080/"
        },
        "outputId": "d73e4826-2d9d-4721-b8f6-548fc8bb7e54"
      },
      "source": [
        "np.zeros((2, 3))"
      ],
      "execution_count": 12,
      "outputs": [
        {
          "output_type": "execute_result",
          "data": {
            "text/plain": [
              "array([[0., 0., 0.],\n",
              "       [0., 0., 0.]])"
            ]
          },
          "metadata": {},
          "execution_count": 12
        }
      ]
    },
    {
      "cell_type": "code",
      "metadata": {
        "id": "N-AHPpAw-Sgb",
        "colab": {
          "base_uri": "https://localhost:8080/"
        },
        "outputId": "004cf881-966d-410f-844d-a9b02d9a3a82"
      },
      "source": [
        "np.zeros((2, 3)).shape"
      ],
      "execution_count": 13,
      "outputs": [
        {
          "output_type": "execute_result",
          "data": {
            "text/plain": [
              "(2, 3)"
            ]
          },
          "metadata": {},
          "execution_count": 13
        }
      ]
    },
    {
      "cell_type": "code",
      "metadata": {
        "id": "PXzJL-o2-Ug1",
        "colab": {
          "base_uri": "https://localhost:8080/"
        },
        "outputId": "9f530b6e-cb0b-4bd5-8058-b6ad4055d587"
      },
      "source": [
        "np.zeros((2, 3, 4))"
      ],
      "execution_count": 14,
      "outputs": [
        {
          "output_type": "execute_result",
          "data": {
            "text/plain": [
              "array([[[0., 0., 0., 0.],\n",
              "        [0., 0., 0., 0.],\n",
              "        [0., 0., 0., 0.]],\n",
              "\n",
              "       [[0., 0., 0., 0.],\n",
              "        [0., 0., 0., 0.],\n",
              "        [0., 0., 0., 0.]]])"
            ]
          },
          "metadata": {},
          "execution_count": 14
        }
      ]
    },
    {
      "cell_type": "code",
      "metadata": {
        "id": "z7rXfZQW-bZJ",
        "colab": {
          "base_uri": "https://localhost:8080/"
        },
        "outputId": "0d639034-8bd1-471b-cb9c-a2f77dca6c44"
      },
      "source": [
        "np.zeros((2, 3, 4)).shape"
      ],
      "execution_count": 15,
      "outputs": [
        {
          "output_type": "execute_result",
          "data": {
            "text/plain": [
              "(2, 3, 4)"
            ]
          },
          "metadata": {},
          "execution_count": 15
        }
      ]
    },
    {
      "cell_type": "code",
      "metadata": {
        "id": "N1AQpOx9-96O",
        "colab": {
          "base_uri": "https://localhost:8080/"
        },
        "outputId": "4b19398a-2552-4da5-f609-589a602f1822"
      },
      "source": [
        "np.zeros((4, 3, 2))"
      ],
      "execution_count": 16,
      "outputs": [
        {
          "output_type": "execute_result",
          "data": {
            "text/plain": [
              "array([[[0., 0.],\n",
              "        [0., 0.],\n",
              "        [0., 0.]],\n",
              "\n",
              "       [[0., 0.],\n",
              "        [0., 0.],\n",
              "        [0., 0.]],\n",
              "\n",
              "       [[0., 0.],\n",
              "        [0., 0.],\n",
              "        [0., 0.]],\n",
              "\n",
              "       [[0., 0.],\n",
              "        [0., 0.],\n",
              "        [0., 0.]]])"
            ]
          },
          "metadata": {},
          "execution_count": 16
        }
      ]
    },
    {
      "cell_type": "code",
      "metadata": {
        "id": "OBD36kQo_Cfu",
        "colab": {
          "base_uri": "https://localhost:8080/"
        },
        "outputId": "9a857781-cf0c-4edb-8363-a87be42a7c3d"
      },
      "source": [
        "np.zeros((4, 3, 2)).shape"
      ],
      "execution_count": 17,
      "outputs": [
        {
          "output_type": "execute_result",
          "data": {
            "text/plain": [
              "(4, 3, 2)"
            ]
          },
          "metadata": {},
          "execution_count": 17
        }
      ]
    },
    {
      "cell_type": "markdown",
      "metadata": {
        "id": "WkLSPAMsfSnc"
      },
      "source": [
        "### reshape"
      ]
    },
    {
      "cell_type": "code",
      "metadata": {
        "id": "3UylXb3chqZg",
        "colab": {
          "base_uri": "https://localhost:8080/"
        },
        "outputId": "cc06d6f4-581a-43c3-9405-b7454af4e655"
      },
      "source": [
        "np.arange(6)"
      ],
      "execution_count": 18,
      "outputs": [
        {
          "output_type": "execute_result",
          "data": {
            "text/plain": [
              "array([0, 1, 2, 3, 4, 5])"
            ]
          },
          "metadata": {},
          "execution_count": 18
        }
      ]
    },
    {
      "cell_type": "code",
      "metadata": {
        "id": "dVjOdqB-fRcj",
        "colab": {
          "base_uri": "https://localhost:8080/"
        },
        "outputId": "e07c1d0c-8449-436a-ace0-a1442128a1e8"
      },
      "source": [
        "np.arange(6).reshape((3, 2))"
      ],
      "execution_count": 19,
      "outputs": [
        {
          "output_type": "execute_result",
          "data": {
            "text/plain": [
              "array([[0, 1],\n",
              "       [2, 3],\n",
              "       [4, 5]])"
            ]
          },
          "metadata": {},
          "execution_count": 19
        }
      ]
    },
    {
      "cell_type": "markdown",
      "metadata": {
        "id": "gFYF74xbvU8b"
      },
      "source": [
        "### ravel"
      ]
    },
    {
      "cell_type": "code",
      "metadata": {
        "id": "0fr4HvlYtIBx",
        "colab": {
          "base_uri": "https://localhost:8080/"
        },
        "outputId": "00934bb0-2bd9-4896-8eed-f4dde61f12c0"
      },
      "source": [
        "x = np.array([[1, 2, 3], [4, 5, 6]])\n",
        "x"
      ],
      "execution_count": 20,
      "outputs": [
        {
          "output_type": "execute_result",
          "data": {
            "text/plain": [
              "array([[1, 2, 3],\n",
              "       [4, 5, 6]])"
            ]
          },
          "metadata": {},
          "execution_count": 20
        }
      ]
    },
    {
      "cell_type": "code",
      "metadata": {
        "id": "B2BC7NypvPsr",
        "colab": {
          "base_uri": "https://localhost:8080/"
        },
        "outputId": "ccd2516b-effd-402a-8dae-c9b22158f83f"
      },
      "source": [
        "np.ravel(x)"
      ],
      "execution_count": 21,
      "outputs": [
        {
          "output_type": "execute_result",
          "data": {
            "text/plain": [
              "array([1, 2, 3, 4, 5, 6])"
            ]
          },
          "metadata": {},
          "execution_count": 21
        }
      ]
    },
    {
      "cell_type": "code",
      "metadata": {
        "id": "UtRdSnygvHjo",
        "colab": {
          "base_uri": "https://localhost:8080/"
        },
        "outputId": "f8070db7-f6c3-41e8-ac31-33a7f8f4a86f"
      },
      "source": [
        "np.shape(x)"
      ],
      "execution_count": 22,
      "outputs": [
        {
          "output_type": "execute_result",
          "data": {
            "text/plain": [
              "(2, 3)"
            ]
          },
          "metadata": {},
          "execution_count": 22
        }
      ]
    },
    {
      "cell_type": "code",
      "metadata": {
        "id": "zBEF1FY6vhTd",
        "colab": {
          "base_uri": "https://localhost:8080/"
        },
        "outputId": "cce2292d-02b7-4ce5-e9a2-097e2991ff86"
      },
      "source": [
        "np.shape(np.ravel(x))"
      ],
      "execution_count": 23,
      "outputs": [
        {
          "output_type": "execute_result",
          "data": {
            "text/plain": [
              "(6,)"
            ]
          },
          "metadata": {},
          "execution_count": 23
        }
      ]
    },
    {
      "cell_type": "markdown",
      "metadata": {
        "id": "thi_teCCxWAU"
      },
      "source": [
        "### flatten"
      ]
    },
    {
      "cell_type": "code",
      "metadata": {
        "id": "aeVp8A__vnb3",
        "colab": {
          "base_uri": "https://localhost:8080/"
        },
        "outputId": "38ab20ab-0ffc-474d-a54a-91b8c72e90f2"
      },
      "source": [
        "a = np.array([[1,2], [3,4]])\n",
        "a"
      ],
      "execution_count": 24,
      "outputs": [
        {
          "output_type": "execute_result",
          "data": {
            "text/plain": [
              "array([[1, 2],\n",
              "       [3, 4]])"
            ]
          },
          "metadata": {},
          "execution_count": 24
        }
      ]
    },
    {
      "cell_type": "code",
      "metadata": {
        "id": "HkBfkh2Xzzl3",
        "colab": {
          "base_uri": "https://localhost:8080/"
        },
        "outputId": "cbf6f5c4-10d5-48dc-9b5c-58b2e13ee06b"
      },
      "source": [
        "a.flatten()"
      ],
      "execution_count": 25,
      "outputs": [
        {
          "output_type": "execute_result",
          "data": {
            "text/plain": [
              "array([1, 2, 3, 4])"
            ]
          },
          "metadata": {},
          "execution_count": 25
        }
      ]
    },
    {
      "cell_type": "markdown",
      "metadata": {
        "id": "Qy5xWPeiHNTB"
      },
      "source": [
        "### diagonal"
      ]
    },
    {
      "cell_type": "code",
      "metadata": {
        "id": "DJ4j7zO6HQBm"
      },
      "source": [
        "a = np.arange(4).reshape(2,2)"
      ],
      "execution_count": 26,
      "outputs": []
    },
    {
      "cell_type": "code",
      "metadata": {
        "id": "DIzPLV7zHc-w",
        "colab": {
          "base_uri": "https://localhost:8080/"
        },
        "outputId": "34dcc2f3-289c-4b56-b153-ebd23b60cb08"
      },
      "source": [
        "np.diagonal(a)"
      ],
      "execution_count": 27,
      "outputs": [
        {
          "output_type": "execute_result",
          "data": {
            "text/plain": [
              "array([0, 3])"
            ]
          },
          "metadata": {},
          "execution_count": 27
        }
      ]
    },
    {
      "cell_type": "code",
      "metadata": {
        "id": "CTA0C4WBHf1I",
        "colab": {
          "base_uri": "https://localhost:8080/"
        },
        "outputId": "0e9a8a12-7e64-40ea-d470-ddc4cb9ee149"
      },
      "source": [
        "a.diagonal()"
      ],
      "execution_count": 28,
      "outputs": [
        {
          "output_type": "execute_result",
          "data": {
            "text/plain": [
              "array([0, 3])"
            ]
          },
          "metadata": {},
          "execution_count": 28
        }
      ]
    },
    {
      "cell_type": "markdown",
      "metadata": {
        "id": "5KN7bP7rHFHy"
      },
      "source": [
        "### broadcast_to"
      ]
    },
    {
      "cell_type": "code",
      "metadata": {
        "id": "rsJkcZBeHJLY"
      },
      "source": [
        "x = np.array([1, 2, 3])"
      ],
      "execution_count": 29,
      "outputs": []
    },
    {
      "cell_type": "code",
      "metadata": {
        "id": "LGtIhQKOHK2n",
        "colab": {
          "base_uri": "https://localhost:8080/"
        },
        "outputId": "c89d5e15-3457-4400-8d7a-f776cbe84d56"
      },
      "source": [
        "np.broadcast_to(x, (3, 3))"
      ],
      "execution_count": 30,
      "outputs": [
        {
          "output_type": "execute_result",
          "data": {
            "text/plain": [
              "array([[1, 2, 3],\n",
              "       [1, 2, 3],\n",
              "       [1, 2, 3]])"
            ]
          },
          "metadata": {},
          "execution_count": 30
        }
      ]
    },
    {
      "cell_type": "markdown",
      "metadata": {
        "id": "qCdsD-CyeQMu"
      },
      "source": [
        "### Ejercicios 1-D\n"
      ]
    },
    {
      "cell_type": "markdown",
      "metadata": {
        "id": "nM8kk2ch6exO"
      },
      "source": [
        "#### Opcional\n",
        "#### Importando el modulo as_strided"
      ]
    },
    {
      "cell_type": "code",
      "metadata": {
        "id": "FzHfqiAzxpBW"
      },
      "source": [
        "from numpy.lib.stride_tricks import as_strided"
      ],
      "execution_count": 31,
      "outputs": []
    },
    {
      "cell_type": "markdown",
      "metadata": {
        "id": "p0_fsKaqZThm"
      },
      "source": [
        "### Ejercicio 1\n",
        "#### Slice first 3 elements\n"
      ]
    },
    {
      "cell_type": "code",
      "metadata": {
        "id": "-iA-YADVfGut",
        "colab": {
          "base_uri": "https://localhost:8080/"
        },
        "outputId": "c3c636d5-693a-4184-819e-3f5a47d72255"
      },
      "source": [
        "np.asarray(range(1,26))"
      ],
      "execution_count": 32,
      "outputs": [
        {
          "output_type": "execute_result",
          "data": {
            "text/plain": [
              "array([ 1,  2,  3,  4,  5,  6,  7,  8,  9, 10, 11, 12, 13, 14, 15, 16, 17,\n",
              "       18, 19, 20, 21, 22, 23, 24, 25])"
            ]
          },
          "metadata": {},
          "execution_count": 32
        }
      ]
    },
    {
      "cell_type": "code",
      "metadata": {
        "id": "U_QOx8DjLgwy",
        "colab": {
          "base_uri": "https://localhost:8080/"
        },
        "outputId": "9a2675b1-c640-4a72-fc00-be78decec02c"
      },
      "source": [
        "np.asarray(range(1,26)).dtype"
      ],
      "execution_count": 33,
      "outputs": [
        {
          "output_type": "execute_result",
          "data": {
            "text/plain": [
              "dtype('int64')"
            ]
          },
          "metadata": {},
          "execution_count": 33
        }
      ]
    },
    {
      "cell_type": "code",
      "metadata": {
        "id": "hsbziCKlLcC1",
        "colab": {
          "base_uri": "https://localhost:8080/"
        },
        "outputId": "fd1c02b0-16c7-4bae-861d-9b8088a1bd6d"
      },
      "source": [
        "np.asarray(range(1,26), np.int8)"
      ],
      "execution_count": 34,
      "outputs": [
        {
          "output_type": "execute_result",
          "data": {
            "text/plain": [
              "array([ 1,  2,  3,  4,  5,  6,  7,  8,  9, 10, 11, 12, 13, 14, 15, 16, 17,\n",
              "       18, 19, 20, 21, 22, 23, 24, 25], dtype=int8)"
            ]
          },
          "metadata": {},
          "execution_count": 34
        }
      ]
    },
    {
      "cell_type": "code",
      "metadata": {
        "id": "K3FiKJKFfX3r",
        "colab": {
          "base_uri": "https://localhost:8080/"
        },
        "outputId": "6d15a352-5dab-457d-80aa-f0b389242f1b"
      },
      "source": [
        "np.asarray(range(1,26), np.int8).shape"
      ],
      "execution_count": 35,
      "outputs": [
        {
          "output_type": "execute_result",
          "data": {
            "text/plain": [
              "(25,)"
            ]
          },
          "metadata": {},
          "execution_count": 35
        }
      ]
    },
    {
      "cell_type": "code",
      "metadata": {
        "id": "45uw7yw3gz9F",
        "colab": {
          "base_uri": "https://localhost:8080/"
        },
        "outputId": "2e610c7c-0bda-4ea8-9648-1a4643557743"
      },
      "source": [
        "np.asarray(range(1,26), np.int8).reshape(5,5)"
      ],
      "execution_count": 36,
      "outputs": [
        {
          "output_type": "execute_result",
          "data": {
            "text/plain": [
              "array([[ 1,  2,  3,  4,  5],\n",
              "       [ 6,  7,  8,  9, 10],\n",
              "       [11, 12, 13, 14, 15],\n",
              "       [16, 17, 18, 19, 20],\n",
              "       [21, 22, 23, 24, 25]], dtype=int8)"
            ]
          },
          "metadata": {},
          "execution_count": 36
        }
      ]
    },
    {
      "cell_type": "code",
      "metadata": {
        "id": "fG_nskiAg1ul",
        "colab": {
          "base_uri": "https://localhost:8080/"
        },
        "outputId": "f06dabb0-6ac1-4a5e-a7cd-74ebeee9ce99"
      },
      "source": [
        "np.asarray(range(1,26), np.int8).reshape(5,5).shape"
      ],
      "execution_count": 37,
      "outputs": [
        {
          "output_type": "execute_result",
          "data": {
            "text/plain": [
              "(5, 5)"
            ]
          },
          "metadata": {},
          "execution_count": 37
        }
      ]
    },
    {
      "cell_type": "code",
      "metadata": {
        "id": "YaZXDJZSZU7Y"
      },
      "source": [
        "x = np.asarray(range(1,26), np.int8).reshape(5,5)"
      ],
      "execution_count": 38,
      "outputs": []
    },
    {
      "cell_type": "code",
      "metadata": {
        "id": "aCXIGKr6xUkH",
        "colab": {
          "base_uri": "https://localhost:8080/"
        },
        "outputId": "9146c750-3654-4e9c-ff3f-84d51b0736a3"
      },
      "source": [
        "x"
      ],
      "execution_count": 39,
      "outputs": [
        {
          "output_type": "execute_result",
          "data": {
            "text/plain": [
              "array([[ 1,  2,  3,  4,  5],\n",
              "       [ 6,  7,  8,  9, 10],\n",
              "       [11, 12, 13, 14, 15],\n",
              "       [16, 17, 18, 19, 20],\n",
              "       [21, 22, 23, 24, 25]], dtype=int8)"
            ]
          },
          "metadata": {},
          "execution_count": 39
        }
      ]
    },
    {
      "cell_type": "code",
      "metadata": {
        "id": "Ms6DjX50g8RE",
        "colab": {
          "base_uri": "https://localhost:8080/"
        },
        "outputId": "4f7698a4-e5b3-4d3b-8ed6-c376b7ed1ef7"
      },
      "source": [
        "x[0,:3] #fila 0 #columnas 3 primeros elementos"
      ],
      "execution_count": 40,
      "outputs": [
        {
          "output_type": "execute_result",
          "data": {
            "text/plain": [
              "array([1, 2, 3], dtype=int8)"
            ]
          },
          "metadata": {},
          "execution_count": 40
        }
      ]
    },
    {
      "cell_type": "markdown",
      "metadata": {
        "id": "Ttd2NtV46oks"
      },
      "source": [
        "#### Opcional"
      ]
    },
    {
      "cell_type": "code",
      "metadata": {
        "id": "3ebdYszixX4H",
        "colab": {
          "base_uri": "https://localhost:8080/"
        },
        "outputId": "5e7bb280-cb18-43e8-fb7e-b6cf29d145d7"
      },
      "source": [
        "as_strided(x, shape=(3,), strides=(1,))"
      ],
      "execution_count": 41,
      "outputs": [
        {
          "output_type": "execute_result",
          "data": {
            "text/plain": [
              "array([1, 2, 3], dtype=int8)"
            ]
          },
          "metadata": {},
          "execution_count": 41
        }
      ]
    },
    {
      "cell_type": "markdown",
      "metadata": {
        "id": "C6SAVWVwZaCG"
      },
      "source": [
        "### Ejercicio 2\n",
        "#### Slice first 8 elements"
      ]
    },
    {
      "cell_type": "code",
      "metadata": {
        "id": "CKMFZcWWnfvN",
        "colab": {
          "base_uri": "https://localhost:8080/"
        },
        "outputId": "cffe6ca8-d030-4268-d491-79edb6dd8c1f"
      },
      "source": [
        "np.asarray(range(1,26), np.int8).reshape(5,5)"
      ],
      "execution_count": 42,
      "outputs": [
        {
          "output_type": "execute_result",
          "data": {
            "text/plain": [
              "array([[ 1,  2,  3,  4,  5],\n",
              "       [ 6,  7,  8,  9, 10],\n",
              "       [11, 12, 13, 14, 15],\n",
              "       [16, 17, 18, 19, 20],\n",
              "       [21, 22, 23, 24, 25]], dtype=int8)"
            ]
          },
          "metadata": {},
          "execution_count": 42
        }
      ]
    },
    {
      "cell_type": "code",
      "metadata": {
        "id": "lFpRtv_qZbNz"
      },
      "source": [
        "x = np.asarray(range(1,26), np.int8).reshape(5,5)"
      ],
      "execution_count": 43,
      "outputs": []
    },
    {
      "cell_type": "code",
      "metadata": {
        "id": "5GLVi41incjW",
        "colab": {
          "base_uri": "https://localhost:8080/"
        },
        "outputId": "a2e2e1d6-88e3-4d61-dc28-f6dea2ba624d"
      },
      "source": [
        "x[0,:8]"
      ],
      "execution_count": 44,
      "outputs": [
        {
          "output_type": "execute_result",
          "data": {
            "text/plain": [
              "array([1, 2, 3, 4, 5], dtype=int8)"
            ]
          },
          "metadata": {},
          "execution_count": 44
        }
      ]
    },
    {
      "cell_type": "markdown",
      "metadata": {
        "id": "3MjHBe2X6r9l"
      },
      "source": [
        "#### Opcional"
      ]
    },
    {
      "cell_type": "code",
      "metadata": {
        "id": "xk1vNBppxxWG",
        "colab": {
          "base_uri": "https://localhost:8080/"
        },
        "outputId": "fa248d4e-3284-4d5e-f1d0-6f09cae52f12"
      },
      "source": [
        "as_strided(x, shape=(8,), strides=(1,))"
      ],
      "execution_count": 45,
      "outputs": [
        {
          "output_type": "execute_result",
          "data": {
            "text/plain": [
              "array([1, 2, 3, 4, 5, 6, 7, 8], dtype=int8)"
            ]
          },
          "metadata": {},
          "execution_count": 45
        }
      ]
    },
    {
      "cell_type": "markdown",
      "metadata": {
        "id": "MneOIgNZZpoN"
      },
      "source": [
        "### Ejercicio 3\n",
        "#### Flatten a 2D array"
      ]
    },
    {
      "cell_type": "code",
      "metadata": {
        "id": "PjP310oQZrIk",
        "colab": {
          "base_uri": "https://localhost:8080/"
        },
        "outputId": "0eca4f0b-bd28-44ee-d2c3-f73325db411a"
      },
      "source": [
        "x = np.asarray(range(1,26), np.int16).reshape(5,5)\n",
        "x"
      ],
      "execution_count": 46,
      "outputs": [
        {
          "output_type": "execute_result",
          "data": {
            "text/plain": [
              "array([[ 1,  2,  3,  4,  5],\n",
              "       [ 6,  7,  8,  9, 10],\n",
              "       [11, 12, 13, 14, 15],\n",
              "       [16, 17, 18, 19, 20],\n",
              "       [21, 22, 23, 24, 25]], dtype=int16)"
            ]
          },
          "metadata": {},
          "execution_count": 46
        }
      ]
    },
    {
      "cell_type": "code",
      "metadata": {
        "id": "NhzcNfIcAQiW",
        "colab": {
          "base_uri": "https://localhost:8080/"
        },
        "outputId": "d3cc5411-7e0b-4598-bd4d-bbd5abf914b7"
      },
      "source": [
        "x.ravel()"
      ],
      "execution_count": 47,
      "outputs": [
        {
          "output_type": "execute_result",
          "data": {
            "text/plain": [
              "array([ 1,  2,  3,  4,  5,  6,  7,  8,  9, 10, 11, 12, 13, 14, 15, 16, 17,\n",
              "       18, 19, 20, 21, 22, 23, 24, 25], dtype=int16)"
            ]
          },
          "metadata": {},
          "execution_count": 47
        }
      ]
    },
    {
      "cell_type": "markdown",
      "metadata": {
        "id": "3c42z3zIAO92"
      },
      "source": [
        "#### Opcional"
      ]
    },
    {
      "cell_type": "code",
      "metadata": {
        "id": "QDsGyiX7x1mI",
        "colab": {
          "base_uri": "https://localhost:8080/"
        },
        "outputId": "2d3edb94-8811-4419-96ea-4f754b5f08e5"
      },
      "source": [
        "as_strided(x, shape=(25,), strides=(2,))"
      ],
      "execution_count": 48,
      "outputs": [
        {
          "output_type": "execute_result",
          "data": {
            "text/plain": [
              "array([ 1,  2,  3,  4,  5,  6,  7,  8,  9, 10, 11, 12, 13, 14, 15, 16, 17,\n",
              "       18, 19, 20, 21, 22, 23, 24, 25], dtype=int16)"
            ]
          },
          "metadata": {},
          "execution_count": 48
        }
      ]
    },
    {
      "cell_type": "markdown",
      "metadata": {
        "id": "hvEs4VdFdxz3"
      },
      "source": [
        "### Ejercicio 4\n",
        "#### Skip every other element"
      ]
    },
    {
      "cell_type": "code",
      "metadata": {
        "id": "o4TR9d6td3E3",
        "colab": {
          "base_uri": "https://localhost:8080/"
        },
        "outputId": "7f992b8b-70be-4abc-cb06-2ae61386458e"
      },
      "source": [
        "x = np.asarray(range(1,26), np.int8).reshape(5,5)\n",
        "x"
      ],
      "execution_count": 49,
      "outputs": [
        {
          "output_type": "execute_result",
          "data": {
            "text/plain": [
              "array([[ 1,  2,  3,  4,  5],\n",
              "       [ 6,  7,  8,  9, 10],\n",
              "       [11, 12, 13, 14, 15],\n",
              "       [16, 17, 18, 19, 20],\n",
              "       [21, 22, 23, 24, 25]], dtype=int8)"
            ]
          },
          "metadata": {},
          "execution_count": 49
        }
      ]
    },
    {
      "cell_type": "code",
      "metadata": {
        "id": "-mf1L4GWAWyN",
        "colab": {
          "base_uri": "https://localhost:8080/"
        },
        "outputId": "9d569432-358f-490f-d030-017fa68eaba0"
      },
      "source": [
        "x[0,::2]"
      ],
      "execution_count": 50,
      "outputs": [
        {
          "output_type": "execute_result",
          "data": {
            "text/plain": [
              "array([1, 3, 5], dtype=int8)"
            ]
          },
          "metadata": {},
          "execution_count": 50
        }
      ]
    },
    {
      "cell_type": "markdown",
      "metadata": {
        "id": "0mwNS4X9AVet"
      },
      "source": [
        "#### Opcional"
      ]
    },
    {
      "cell_type": "code",
      "metadata": {
        "id": "zm-4gpyxx8Mn",
        "colab": {
          "base_uri": "https://localhost:8080/"
        },
        "outputId": "8d041df1-66f8-4007-f468-8b1948e01e0c"
      },
      "source": [
        "as_strided(x, shape=(3,), strides=(2,))"
      ],
      "execution_count": 51,
      "outputs": [
        {
          "output_type": "execute_result",
          "data": {
            "text/plain": [
              "array([1, 3, 5], dtype=int8)"
            ]
          },
          "metadata": {},
          "execution_count": 51
        }
      ]
    },
    {
      "cell_type": "markdown",
      "metadata": {
        "id": "S2MWIp2Od402"
      },
      "source": [
        "### Ejercicio 5\n",
        "#### Slice first column"
      ]
    },
    {
      "cell_type": "code",
      "metadata": {
        "id": "o6o5bUZSd6QE"
      },
      "source": [
        "x = np.asarray(range(1,26), np.int64).reshape(5,5)"
      ],
      "execution_count": 52,
      "outputs": []
    },
    {
      "cell_type": "code",
      "metadata": {
        "id": "KAxctn4uAfCe",
        "colab": {
          "base_uri": "https://localhost:8080/"
        },
        "outputId": "4cc04b6a-c2ae-4278-d05b-f272238b90f1"
      },
      "source": [
        "x[:4,0]"
      ],
      "execution_count": 53,
      "outputs": [
        {
          "output_type": "execute_result",
          "data": {
            "text/plain": [
              "array([ 1,  6, 11, 16])"
            ]
          },
          "metadata": {},
          "execution_count": 53
        }
      ]
    },
    {
      "cell_type": "markdown",
      "metadata": {
        "id": "-a6dKYK8AdKV"
      },
      "source": [
        "#### Opcional"
      ]
    },
    {
      "cell_type": "code",
      "metadata": {
        "id": "RdePVSSvyAQy",
        "colab": {
          "base_uri": "https://localhost:8080/"
        },
        "outputId": "ab62c5f7-e517-4e87-8704-9d41a5395b3c"
      },
      "source": [
        "as_strided(x, shape=(4,), strides=(40,))"
      ],
      "execution_count": 54,
      "outputs": [
        {
          "output_type": "execute_result",
          "data": {
            "text/plain": [
              "array([ 1,  6, 11, 16])"
            ]
          },
          "metadata": {},
          "execution_count": 54
        }
      ]
    },
    {
      "cell_type": "markdown",
      "metadata": {
        "id": "jpJVIEQFd6uv"
      },
      "source": [
        "### Ejercicio 6\n",
        "#### Slice a diagonal"
      ]
    },
    {
      "cell_type": "code",
      "metadata": {
        "id": "3EWefxeleBmx"
      },
      "source": [
        "x = np.asarray(range(1,26), np.int64).reshape(5,5)"
      ],
      "execution_count": 55,
      "outputs": []
    },
    {
      "cell_type": "code",
      "metadata": {
        "id": "Ine2aeflAgpv",
        "colab": {
          "base_uri": "https://localhost:8080/"
        },
        "outputId": "0ef68d60-a207-4645-f3b0-f251c67fb446"
      },
      "source": [
        "x.diagonal()"
      ],
      "execution_count": 56,
      "outputs": [
        {
          "output_type": "execute_result",
          "data": {
            "text/plain": [
              "array([ 1,  7, 13, 19, 25])"
            ]
          },
          "metadata": {},
          "execution_count": 56
        }
      ]
    },
    {
      "cell_type": "markdown",
      "metadata": {
        "id": "wemZ4ZnOAfk_"
      },
      "source": [
        "#### Opcional"
      ]
    },
    {
      "cell_type": "code",
      "metadata": {
        "id": "Gf8mkhdJyD3H",
        "colab": {
          "base_uri": "https://localhost:8080/"
        },
        "outputId": "d6955a64-5e2b-45ee-d149-10bc21652bec"
      },
      "source": [
        "as_strided(x, shape=(5,), strides=(48,))"
      ],
      "execution_count": 57,
      "outputs": [
        {
          "output_type": "execute_result",
          "data": {
            "text/plain": [
              "array([ 1,  7, 13, 19, 25])"
            ]
          },
          "metadata": {},
          "execution_count": 57
        }
      ]
    },
    {
      "cell_type": "markdown",
      "metadata": {
        "id": "0WljsWr1eD5u"
      },
      "source": [
        "### Ejercicio 7\n",
        "#### Repeat the first element"
      ]
    },
    {
      "cell_type": "code",
      "metadata": {
        "id": "ek0M_jCseHD8"
      },
      "source": [
        "x = np.asarray(range(1,26), np.int64).reshape(5,5)"
      ],
      "execution_count": 58,
      "outputs": []
    },
    {
      "cell_type": "code",
      "metadata": {
        "id": "7eWTYPtzAjTt",
        "colab": {
          "base_uri": "https://localhost:8080/"
        },
        "outputId": "1872a25f-9614-45aa-9806-9faf8c7c9590"
      },
      "source": [
        "np.broadcast_to(x[0,0], (5,))"
      ],
      "execution_count": 59,
      "outputs": [
        {
          "output_type": "execute_result",
          "data": {
            "text/plain": [
              "array([1, 1, 1, 1, 1])"
            ]
          },
          "metadata": {},
          "execution_count": 59
        }
      ]
    },
    {
      "cell_type": "markdown",
      "metadata": {
        "id": "tck_EZI8Ai1F"
      },
      "source": [
        "#### Opcional"
      ]
    },
    {
      "cell_type": "code",
      "metadata": {
        "id": "FQ3PGE57yIzo",
        "colab": {
          "base_uri": "https://localhost:8080/"
        },
        "outputId": "81e6d4fc-436c-46c2-b292-f9f9d596f227"
      },
      "source": [
        "as_strided(x, shape=(5,), strides=(0,))"
      ],
      "execution_count": 60,
      "outputs": [
        {
          "output_type": "execute_result",
          "data": {
            "text/plain": [
              "array([1, 1, 1, 1, 1])"
            ]
          },
          "metadata": {},
          "execution_count": 60
        }
      ]
    },
    {
      "cell_type": "markdown",
      "metadata": {
        "id": "97UPIOZ4eHl3"
      },
      "source": [
        "### Ejercicio 8\n",
        "#### Simple 2D slicing"
      ]
    },
    {
      "cell_type": "code",
      "metadata": {
        "id": "NqXXRj5GyL-5"
      },
      "source": [
        "x = np.asarray(range(1,26), np.int64).reshape(5,5)"
      ],
      "execution_count": 61,
      "outputs": []
    },
    {
      "cell_type": "code",
      "metadata": {
        "id": "8J-5VGalBr9e",
        "colab": {
          "base_uri": "https://localhost:8080/"
        },
        "outputId": "20eb6e9a-8b78-4312-bf2a-55fe39e3b842"
      },
      "source": [
        "x[:3,:4]"
      ],
      "execution_count": 62,
      "outputs": [
        {
          "output_type": "execute_result",
          "data": {
            "text/plain": [
              "array([[ 1,  2,  3,  4],\n",
              "       [ 6,  7,  8,  9],\n",
              "       [11, 12, 13, 14]])"
            ]
          },
          "metadata": {},
          "execution_count": 62
        }
      ]
    },
    {
      "cell_type": "markdown",
      "metadata": {
        "id": "WKUkGWPvBqVy"
      },
      "source": [
        "#### Opcional"
      ]
    },
    {
      "cell_type": "code",
      "metadata": {
        "id": "tYjXb7SnyOq5",
        "colab": {
          "base_uri": "https://localhost:8080/"
        },
        "outputId": "14bcc62e-c495-47e9-c601-2c66f7f11f91"
      },
      "source": [
        "as_strided(x, shape=(3,4), strides=(40,8))"
      ],
      "execution_count": 63,
      "outputs": [
        {
          "output_type": "execute_result",
          "data": {
            "text/plain": [
              "array([[ 1,  2,  3,  4],\n",
              "       [ 6,  7,  8,  9],\n",
              "       [11, 12, 13, 14]])"
            ]
          },
          "metadata": {},
          "execution_count": 63
        }
      ]
    },
    {
      "cell_type": "markdown",
      "metadata": {
        "id": "UtL7eDJMySoY"
      },
      "source": [
        "### Ejercicio 9\n",
        "#### Simple 2D slicing"
      ]
    },
    {
      "cell_type": "code",
      "metadata": {
        "id": "5jgwtnuByRlb"
      },
      "source": [
        "x = np.asarray(range(1,26), np.int64).reshape(5,5)"
      ],
      "execution_count": 64,
      "outputs": []
    },
    {
      "cell_type": "code",
      "metadata": {
        "id": "jBY_5naqyoGg",
        "colab": {
          "base_uri": "https://localhost:8080/"
        },
        "outputId": "309c803f-0f09-4621-ea09-fb4891984d55"
      },
      "source": [
        "x[:3,:4]"
      ],
      "execution_count": 65,
      "outputs": [
        {
          "output_type": "execute_result",
          "data": {
            "text/plain": [
              "array([[ 1,  2,  3,  4],\n",
              "       [ 6,  7,  8,  9],\n",
              "       [11, 12, 13, 14]])"
            ]
          },
          "metadata": {},
          "execution_count": 65
        }
      ]
    },
    {
      "cell_type": "markdown",
      "metadata": {
        "id": "AXy8X7dqyXTS"
      },
      "source": [
        "### Ejercicio 10\n",
        "#### Sparse slicing"
      ]
    },
    {
      "cell_type": "code",
      "metadata": {
        "id": "ZQLopbhMyY-4",
        "colab": {
          "base_uri": "https://localhost:8080/"
        },
        "outputId": "bd37f45a-a0e8-47ec-9f7b-ce42e7a2d213"
      },
      "source": [
        "x = np.asarray(range(1,26), np.int64).reshape(5,5)\n",
        "x"
      ],
      "execution_count": 66,
      "outputs": [
        {
          "output_type": "execute_result",
          "data": {
            "text/plain": [
              "array([[ 1,  2,  3,  4,  5],\n",
              "       [ 6,  7,  8,  9, 10],\n",
              "       [11, 12, 13, 14, 15],\n",
              "       [16, 17, 18, 19, 20],\n",
              "       [21, 22, 23, 24, 25]])"
            ]
          },
          "metadata": {},
          "execution_count": 66
        }
      ]
    },
    {
      "cell_type": "code",
      "metadata": {
        "id": "Tb8BAKw8CHrr",
        "colab": {
          "base_uri": "https://localhost:8080/"
        },
        "outputId": "07a9fb73-a307-468f-de04-e0616ec6dd8a"
      },
      "source": [
        "x[::2,::2]"
      ],
      "execution_count": 67,
      "outputs": [
        {
          "output_type": "execute_result",
          "data": {
            "text/plain": [
              "array([[ 1,  3,  5],\n",
              "       [11, 13, 15],\n",
              "       [21, 23, 25]])"
            ]
          },
          "metadata": {},
          "execution_count": 67
        }
      ]
    },
    {
      "cell_type": "markdown",
      "metadata": {
        "id": "Jivl816iCF_m"
      },
      "source": [
        "#### Opcional"
      ]
    },
    {
      "cell_type": "code",
      "metadata": {
        "id": "j7b7indyyxXg",
        "colab": {
          "base_uri": "https://localhost:8080/"
        },
        "outputId": "d155c262-203d-4f1b-8d0c-324261837bea"
      },
      "source": [
        "as_strided(x, shape=(3,3), strides=(80,16))"
      ],
      "execution_count": 68,
      "outputs": [
        {
          "output_type": "execute_result",
          "data": {
            "text/plain": [
              "array([[ 1,  3,  5],\n",
              "       [11, 13, 15],\n",
              "       [21, 23, 25]])"
            ]
          },
          "metadata": {},
          "execution_count": 68
        }
      ]
    },
    {
      "cell_type": "markdown",
      "metadata": {
        "id": "CJ5yDV-8yZSA"
      },
      "source": [
        "### Ejercicio 11\n",
        "#### Transpose a 2D array"
      ]
    },
    {
      "cell_type": "code",
      "metadata": {
        "id": "AvWa61kGya5C"
      },
      "source": [
        "x = np.asarray(range(1,26), np.int8).reshape(5,5)"
      ],
      "execution_count": 69,
      "outputs": []
    },
    {
      "cell_type": "code",
      "metadata": {
        "id": "AfFCisauEHOh",
        "colab": {
          "base_uri": "https://localhost:8080/"
        },
        "outputId": "b1e4b5a2-e6c8-4ed7-c62f-84ee4cd0b6a2"
      },
      "source": [
        "x[:3,:3].T"
      ],
      "execution_count": 70,
      "outputs": [
        {
          "output_type": "execute_result",
          "data": {
            "text/plain": [
              "array([[ 1,  6, 11],\n",
              "       [ 2,  7, 12],\n",
              "       [ 3,  8, 13]], dtype=int8)"
            ]
          },
          "metadata": {},
          "execution_count": 70
        }
      ]
    },
    {
      "cell_type": "markdown",
      "metadata": {
        "id": "XPa8DxExEF_Y"
      },
      "source": [
        "#### Opcional"
      ]
    },
    {
      "cell_type": "code",
      "metadata": {
        "id": "b77lBqQSy6ig",
        "colab": {
          "base_uri": "https://localhost:8080/"
        },
        "outputId": "a1d45610-0043-4dee-8f8b-614e32cdd841"
      },
      "source": [
        "as_strided(x, shape=(3,3), strides=(1,5))"
      ],
      "execution_count": 71,
      "outputs": [
        {
          "output_type": "execute_result",
          "data": {
            "text/plain": [
              "array([[ 1,  6, 11],\n",
              "       [ 2,  7, 12],\n",
              "       [ 3,  8, 13]], dtype=int8)"
            ]
          },
          "metadata": {},
          "execution_count": 71
        }
      ]
    },
    {
      "cell_type": "markdown",
      "metadata": {
        "id": "-igX0XQ7ya_x"
      },
      "source": [
        "### Ejercicio 12\n",
        "#### Repeat the first column 4 times"
      ]
    },
    {
      "cell_type": "code",
      "metadata": {
        "id": "0avxtp0Eycz6"
      },
      "source": [
        "x = np.asarray(range(1,26), np.int32).reshape(5,5)"
      ],
      "execution_count": 72,
      "outputs": []
    },
    {
      "cell_type": "code",
      "metadata": {
        "id": "QB36fdxTEi9-",
        "colab": {
          "base_uri": "https://localhost:8080/"
        },
        "outputId": "3bb559fa-3202-486e-b9b5-615ab05f6f58"
      },
      "source": [
        "np.broadcast_to(x[:,0,None], (5,4))"
      ],
      "execution_count": 73,
      "outputs": [
        {
          "output_type": "execute_result",
          "data": {
            "text/plain": [
              "array([[ 1,  1,  1,  1],\n",
              "       [ 6,  6,  6,  6],\n",
              "       [11, 11, 11, 11],\n",
              "       [16, 16, 16, 16],\n",
              "       [21, 21, 21, 21]], dtype=int32)"
            ]
          },
          "metadata": {},
          "execution_count": 73
        }
      ]
    },
    {
      "cell_type": "markdown",
      "metadata": {
        "id": "np3hs0RyEhZP"
      },
      "source": [
        "#### Opcional"
      ]
    },
    {
      "cell_type": "code",
      "metadata": {
        "id": "whyt5qPnzDZA",
        "colab": {
          "base_uri": "https://localhost:8080/"
        },
        "outputId": "25478666-f698-440b-b515-a534cdef45dd"
      },
      "source": [
        "as_strided(x, shape=(5,4), strides=(20,0))"
      ],
      "execution_count": 74,
      "outputs": [
        {
          "output_type": "execute_result",
          "data": {
            "text/plain": [
              "array([[ 1,  1,  1,  1],\n",
              "       [ 6,  6,  6,  6],\n",
              "       [11, 11, 11, 11],\n",
              "       [16, 16, 16, 16],\n",
              "       [21, 21, 21, 21]], dtype=int32)"
            ]
          },
          "metadata": {},
          "execution_count": 74
        }
      ]
    },
    {
      "cell_type": "markdown",
      "metadata": {
        "id": "GBvNqvYRydEB"
      },
      "source": [
        "### Ejercicio 13\n",
        "#### Reshape 1D array to 2D array"
      ]
    },
    {
      "cell_type": "code",
      "metadata": {
        "id": "KndEVfc9yejJ"
      },
      "source": [
        "x = np.asarray(range(1,13), np.int64)"
      ],
      "execution_count": 75,
      "outputs": []
    },
    {
      "cell_type": "code",
      "metadata": {
        "id": "BLfJohv0Eoe3",
        "colab": {
          "base_uri": "https://localhost:8080/"
        },
        "outputId": "002f9e2c-de11-452f-bec5-6299912da90c"
      },
      "source": [
        "x.reshape(4,3)"
      ],
      "execution_count": 76,
      "outputs": [
        {
          "output_type": "execute_result",
          "data": {
            "text/plain": [
              "array([[ 1,  2,  3],\n",
              "       [ 4,  5,  6],\n",
              "       [ 7,  8,  9],\n",
              "       [10, 11, 12]])"
            ]
          },
          "metadata": {},
          "execution_count": 76
        }
      ]
    },
    {
      "cell_type": "markdown",
      "metadata": {
        "id": "o9xcPtSrEmef"
      },
      "source": [
        "#### Opcional"
      ]
    },
    {
      "cell_type": "code",
      "metadata": {
        "id": "4G2FQmi0zLlB",
        "colab": {
          "base_uri": "https://localhost:8080/"
        },
        "outputId": "e09f9fb5-835b-482a-f8d7-f43f6dbaa2db"
      },
      "source": [
        "as_strided(x, shape=(4,3), strides=(24,8))"
      ],
      "execution_count": 77,
      "outputs": [
        {
          "output_type": "execute_result",
          "data": {
            "text/plain": [
              "array([[ 1,  2,  3],\n",
              "       [ 4,  5,  6],\n",
              "       [ 7,  8,  9],\n",
              "       [10, 11, 12]])"
            ]
          },
          "metadata": {},
          "execution_count": 77
        }
      ]
    },
    {
      "cell_type": "markdown",
      "metadata": {
        "id": "cAqzGDnNye5k"
      },
      "source": [
        "-- Fin de la Tutoría --"
      ]
    },
    {
      "cell_type": "markdown",
      "metadata": {
        "id": "zEfb0U8KL5Wi"
      },
      "source": [
        "--Fin de la Tutoría"
      ]
    }
  ]
}